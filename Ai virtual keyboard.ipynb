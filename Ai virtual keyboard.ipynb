{
 "cells": [
  {
   "cell_type": "markdown",
   "id": "5a805532-9e84-44a9-8ce2-5abce3de105e",
   "metadata": {},
   "source": [
    "# <span style=\"color:purple;\"> Ai virtual keyboard</span>\n",
    "\n"
   ]
  },
  {
   "cell_type": "code",
   "execution_count": null,
   "id": "66cd6278-0e73-4ae8-8423-a5636b015f97",
   "metadata": {},
   "outputs": [],
   "source": [
    "pip install pyautogui\n"
   ]
  },
  {
   "cell_type": "markdown",
   "id": "ae400eda-8dd0-4c96-a3ec-526873c53dc2",
   "metadata": {},
   "source": [
    "### <span style=\"color:orange;\">import neccecssary libraries 📚</span>\n"
   ]
  },
  {
   "cell_type": "code",
   "execution_count": 1,
   "id": "6dad5e65-4b79-4fc1-ac75-467beb912acf",
   "metadata": {},
   "outputs": [],
   "source": [
    "\n",
    "import cv2\n",
    "import mediapipe as mp\n",
    "import pyautogui\n",
    "import numpy as np\n",
    "import math\n"
   ]
  },
  {
   "cell_type": "markdown",
   "id": "87698b09-93ab-42de-be6c-3966941afaa1",
   "metadata": {},
   "source": [
    "### <span style=\"color:orange;\">hands detection ✋🤚</span>\n"
   ]
  },
  {
   "cell_type": "code",
   "execution_count": 2,
   "id": "0232d50d-c01b-4a02-9d60-66112860e36e",
   "metadata": {},
   "outputs": [],
   "source": [
    "# Initialize MediaPipe hand detection\n",
    "mp_hands = mp.solutions.hands\n",
    "mp_draw = mp.solutions.drawing_utils\n",
    "hands = mp_hands.Hands(min_detection_confidence=0.7, min_tracking_confidence=0.7)"
   ]
  },
  {
   "cell_type": "markdown",
   "id": "9a78b1c8-f5f6-40e9-9a23-83c3324c8c72",
   "metadata": {},
   "source": [
    "### <span style=\"color:orange;\">Define and draw the virtual keyboard ⌨️ 🖥️ </span>\n"
   ]
  },
  {
   "cell_type": "code",
   "execution_count": 3,
   "id": "cbd1b3f4-c51b-4eb0-837d-f9844fda1478",
   "metadata": {},
   "outputs": [],
   "source": [
    "keyboard_keys = [\n",
    "    [\"Q\", \"W\", \"E\", \"R\", \"T\", \"Y\", \"U\", \"I\", \"O\", \"P\"],\n",
    "    [\"A\", \"S\", \"D\", \"F\", \"G\", \"H\", \"J\", \"K\", \"L\"],\n",
    "    [\"Z\", \"X\", \"C\", \"V\", \"B\", \"N\", \"M\"],\n",
    "    [\"Space\"]\n",
    "]\n",
    "\n",
    "key_size = 80\n",
    "start_x, start_y = 50, 100\n",
    "typed_text = \"\"\n",
    "finger_touching = False  # Track whether fingers are touching"
   ]
  },
  {
   "cell_type": "code",
   "execution_count": 4,
   "id": "f52c4fb6-9162-4b5a-8fd2-db71d772ff69",
   "metadata": {},
   "outputs": [],
   "source": [
    "# Function to draw the virtual keyboard on the frame\n",
    "def draw_keyboard(img):\n",
    "    global start_x, start_y\n",
    "    y = start_y\n",
    "    for row in keyboard_keys:\n",
    "        x = start_x\n",
    "        for key in row:\n",
    "            # If it's the spacebar, draw it larger\n",
    "            if key == \"Space\":\n",
    "                cv2.rectangle(img, (x, y), (x + key_size * 6 + 50, y + key_size), (128, 0, 128), 3)  # Spacebar spans 6 keys\n",
    "                cv2.putText(img, key, (x + 150, y + 50), cv2.FONT_HERSHEY_SIMPLEX, 1.5, (255, 255, 255), 3)  # Larger text for spacebar\n",
    "            else:\n",
    "                cv2.rectangle(img, (x, y), (x + key_size, y + key_size), (128, 0, 128), 3)\n",
    "                cv2.putText(img, key, (x + 20, y + 50), cv2.FONT_HERSHEY_SIMPLEX, 1, (255, 255, 255), 2)\n",
    "            x += key_size + 10\n",
    "        y += key_size + 10\n"
   ]
  },
  {
   "cell_type": "code",
   "execution_count": 5,
   "id": "c06bb968-5092-480d-8e7a-8aeb7637bcfc",
   "metadata": {},
   "outputs": [],
   "source": [
    "# Function to calculate the distance between two points\n",
    "def calculate_distance(point1, point2):\n",
    "    return math.sqrt((point2[0] - point1[0]) ** 2 + (point2[1] - point1[1]) ** 2)\n"
   ]
  },
  {
   "cell_type": "markdown",
   "id": "0e49ffe1-7dce-415f-a00e-a61e55567c1e",
   "metadata": {},
   "source": [
    "### <span style=\"color:orange;\">check key pressed functions and reset touch ⌨️✅🔑</span>\n"
   ]
  },
  {
   "cell_type": "code",
   "execution_count": 11,
   "id": "85288c80-978b-423e-a73e-27f11f88f6c0",
   "metadata": {},
   "outputs": [],
   "source": [
    "# Function to check if the thumb and index finger are touching\n",
    "def check_key_press(landmarks):\n",
    "    global typed_text, finger_touching\n",
    "    y = start_y\n",
    "    for row in keyboard_keys:\n",
    "        x = start_x\n",
    "        for key in row:\n",
    "            if landmarks:\n",
    "                # Get the tip of the thumb and index finger\n",
    "                thumb_tip = landmarks[mp_hands.HandLandmark.THUMB_TIP]\n",
    "                index_tip = landmarks[mp_hands.HandLandmark.INDEX_FINGER_TIP]\n",
    "                \n",
    "                # Calculate the distance between the thumb and index finger\n",
    "                distance = calculate_distance(\n",
    "                    (thumb_tip.x * frame.shape[1], thumb_tip.y * frame.shape[0]),\n",
    "                    (index_tip.x * frame.shape[1], index_tip.y * frame.shape[0])\n",
    "                )\n",
    "                \n",
    "                # If the distance is below a certain threshold (fingers are touching)\n",
    "                if distance < 30:  # Adjust this threshold as needed\n",
    "                    # Check if we haven't already pressed the button\n",
    "                    if not finger_touching:\n",
    "                        # Check if we are touching the spacebar\n",
    "                        if key == \"Space\" and x < index_tip.x * frame.shape[1] < x + key_size * 6 + 50 and y < index_tip.y * frame.shape[0] < y + key_size:\n",
    "                            typed_text += \" \"  # Add a space when spacebar is pressed\n",
    "                            pyautogui.write(\" \")  # Simulate typing the space\n",
    "                            finger_touching = True  # Mark that we have already pressed\n",
    "                            return  # Exit after the key is pressed\n",
    "                        # Check for other keys\n",
    "                        elif key != \"Space\" and x < index_tip.x * frame.shape[1] < x + key_size and y < index_tip.y * frame.shape[0] < y + key_size:\n",
    "                            typed_text += key\n",
    "                            pyautogui.write(key)  # Simulate typing the key\n",
    "                            finger_touching = True  # Mark that we have already pressed\n",
    "                            return  # Exit after the key is pressed\n",
    "            x += key_size + 10\n",
    "        y += key_size + 10\n"
   ]
  },
  {
   "cell_type": "code",
   "execution_count": 12,
   "id": "83453058-9232-40e5-842e-4c278f81e02b",
   "metadata": {},
   "outputs": [],
   "source": [
    "# Function to reset the touch state when fingers are not touching\n",
    "def reset_touch_state(landmarks):\n",
    "    global finger_touching\n",
    "    thumb_tip = landmarks[mp_hands.HandLandmark.THUMB_TIP]\n",
    "    index_tip = landmarks[mp_hands.HandLandmark.INDEX_FINGER_TIP]\n",
    "    \n",
    "    # Calculate the distance between thumb and index finger\n",
    "    distance = calculate_distance(\n",
    "        (thumb_tip.x * frame.shape[1], thumb_tip.y * frame.shape[0]),\n",
    "        (index_tip.x * frame.shape[1], index_tip.y * frame.shape[0])\n",
    "    )\n",
    "    \n",
    "    # If the distance is larger than the threshold, fingers are not touching, so reset the state\n",
    "    if distance > 30:\n",
    "        finger_touching = False\n",
    "\n",
    "\n"
   ]
  },
  {
   "cell_type": "markdown",
   "id": "c497c738-e8b5-4cb4-b32c-6350f0a7bb62",
   "metadata": {},
   "source": [
    "\n",
    "# <span style=\"color:teal;\">Execution\" 🏃‍♂️💻⚡</span>\n"
   ]
  },
  {
   "cell_type": "code",
   "execution_count": 15,
   "id": "255ad0f3-ec2f-4bb5-912b-73180c87e746",
   "metadata": {},
   "outputs": [],
   "source": [
    "# Start the video capture \n",
    "cap = cv2.VideoCapture(0)\n",
    "\n",
    "while cap.isOpened():\n",
    "    ret, frame = cap.read()\n",
    "    if not ret:\n",
    "        break\n",
    "\n",
    "    # Resize the frame to make it larger\n",
    "    frame_width = 1028  # Set desired width\n",
    "    frame_height = 720  # Set desired height\n",
    "    frame = cv2.resize(frame, (frame_width, frame_height))  # Resize the frame\n",
    "\n",
    "    # Flip the frame horizontally for a mirror view\n",
    "    frame = cv2.flip(frame, 1)\n",
    "\n",
    "    # Convert the frame to RGB for MediaPipe processing\n",
    "    rgb_frame = cv2.cvtColor(frame, cv2.COLOR_BGR2RGB)\n",
    "\n",
    "    # Process the frame with MediaPipe Hands\n",
    "    result = hands.process(rgb_frame)\n",
    "\n",
    "    # Draw the virtual keyboard\n",
    "    draw_keyboard(frame)\n",
    "\n",
    "    # If hands are detected, process the landmarks\n",
    "    if result.multi_hand_landmarks:\n",
    "        for hand_landmarks in result.multi_hand_landmarks:\n",
    "            # Draw hand landmarks on the frame\n",
    "            mp_draw.draw_landmarks(frame, hand_landmarks, mp_hands.HAND_CONNECTIONS)\n",
    "            \n",
    "            # Extract landmarks (positions of the hand points)\n",
    "            landmarks = [landmark for landmark in hand_landmarks.landmark]\n",
    "            \n",
    "            # Check for button press when thumb and index finger touch\n",
    "            check_key_press(landmarks)\n",
    "            \n",
    "            # Reset touch state when fingers are not touching\n",
    "            reset_touch_state(landmarks)\n",
    "\n",
    "    # Display the typed text on the screen with padding below the keyboard\n",
    "    cv2.putText(frame, typed_text, (50, frame.shape[0] - 50), cv2.FONT_HERSHEY_SIMPLEX, 2, (0, 255, 0), 5)\n",
    "\n",
    "    # Show the frame with the virtual keyboard and hand landmarks\n",
    "    cv2.imshow(\"Virtual Keyboard\", frame)\n",
    "\n",
    "    # Exit the loop when the 'q' key is pressed\n",
    "    if cv2.waitKey(1) & 0xFF == ord('q'):\n",
    "        break\n",
    "\n",
    "# Release the video capture and close all windows\n",
    "cap.release()\n",
    "cv2.destroyAllWindows()\n",
    "typed_text = \"\"\n"
   ]
  },
  {
   "cell_type": "code",
   "execution_count": null,
   "id": "4cf44fe4-6da7-402b-a8de-03ed766441b4",
   "metadata": {},
   "outputs": [],
   "source": []
  },
  {
   "cell_type": "code",
   "execution_count": null,
   "id": "18792db6-6e9f-46b4-bf41-cd0845af3592",
   "metadata": {},
   "outputs": [],
   "source": []
  }
 ],
 "metadata": {
  "kernelspec": {
   "display_name": "Python 3 (ipykernel)",
   "language": "python",
   "name": "python3"
  },
  "language_info": {
   "codemirror_mode": {
    "name": "ipython",
    "version": 3
   },
   "file_extension": ".py",
   "mimetype": "text/x-python",
   "name": "python",
   "nbconvert_exporter": "python",
   "pygments_lexer": "ipython3",
   "version": "3.11.11"
  }
 },
 "nbformat": 4,
 "nbformat_minor": 5
}
